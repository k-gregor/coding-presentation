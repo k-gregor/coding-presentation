{
 "cells": [
  {
   "cell_type": "markdown",
   "metadata": {
    "slideshow": {
     "slide_type": "slide"
    },
    "tags": []
   },
   "source": [
    "# Some Insight in Coding Techniques / Best Practices"
   ]
  },
  {
   "cell_type": "markdown",
   "metadata": {},
   "source": [
    "![](graphics/cartoon.png)"
   ]
  },
  {
   "cell_type": "markdown",
   "metadata": {
    "slideshow": {
     "slide_type": "subslide"
    },
    "tags": []
   },
   "source": [
    "## Why is this important?\n",
    "* Prevent Bugs\n",
    "* Help yourself understand what you did half a year ago\n",
    "* Help others understand the code you wrote when collaborating\n",
    "    * or when other people base their work on yours (e.g. when you develop models)\n",
    "* Give others opportunity to reproduce your results by giving them understandable code\n",
    "* Save time in the long run"
   ]
  },
  {
   "cell_type": "markdown",
   "metadata": {
    "slideshow": {
     "slide_type": "subslide"
    },
    "tags": []
   },
   "source": [
    "Remarks: \n",
    "1. These are just examples, hints, guidelines, potential pitfalls\n",
    "1. Most of these depend on the situation\n",
    "1. I just show you some things on a high level, so you know what's out there\n",
    "1. Decide yourself what seems relevant for you\n",
    "1. Everyone will write crappy code sometime for numerous reasons, but we should know when we do that and how we can avoid it when we have enough time and resources"
   ]
  },
  {
   "cell_type": "markdown",
   "metadata": {
    "slideshow": {
     "slide_type": "slide"
    }
   },
   "source": [
    "# Readable Code"
   ]
  },
  {
   "cell_type": "markdown",
   "metadata": {
    "slideshow": {
     "slide_type": "subslide"
    }
   },
   "source": [
    "## Naming and Comments"
   ]
  },
  {
   "cell_type": "markdown",
   "metadata": {
    "slideshow": {
     "slide_type": "subslide"
    }
   },
   "source": [
    "### Bad Example: What Does This Do??"
   ]
  },
  {
   "cell_type": "code",
   "execution_count": 2,
   "metadata": {},
   "outputs": [
    {
     "data": {
      "image/png": "[encoded data removed]",
      "text/plain": [
       "<Figure size 432x288 with 1 Axes>"
      ]
     },
     "metadata": {
      "needs_background": "light"
     },
     "output_type": "display_data"
    }
   ],
   "source": [
    "import numpy as np\n",
    "import matplotlib.pyplot as plt\n",
    "import pandas as pd\n",
    "\n",
    "a = 0.02\n",
    "b = 1\n",
    "xx = np.arange(0, 100)\n",
    "yy = b*(1+a)**xx\n",
    "plt.plot(xx, yy);"
   ]
  },
  {
   "cell_type": "markdown",
   "metadata": {
    "slideshow": {
     "slide_type": "subslide"
    }
   },
   "source": [
    "### Comments, a little bit better, but still..."
   ]
  },
  {
   "cell_type": "code",
   "execution_count": 3,
   "metadata": {},
   "outputs": [
    {
     "data": {
      "image/png": "[encoded data removed]",
      "text/plain": [
       "<Figure size 432x288 with 1 Axes>"
      ]
     },
     "metadata": {
      "needs_background": "light"
     },
     "output_type": "display_data"
    }
   ],
   "source": [
    "a = 0.02 # interest rate\n",
    "b = 1 # initial investment\n",
    "xx = np.arange(0, 100) # years\n",
    "yy = b*(1+a)**xx # money value after x years\n",
    "plt.plot(xx, yy);"
   ]
  },
  {
   "cell_type": "markdown",
   "metadata": {
    "slideshow": {
     "slide_type": "subslide"
    }
   },
   "source": [
    "### There we go: Proper Naming"
   ]
  },
  {
   "cell_type": "code",
   "execution_count": 5,
   "metadata": {},
   "outputs": [
    {
     "data": {
      "image/png": "[encoded data removed]",
      "text/plain": [
       "<Figure size 432x288 with 1 Axes>"
      ]
     },
     "metadata": {
      "needs_background": "light"
     },
     "output_type": "display_data"
    }
   ],
   "source": [
    "interest_rate = 0.02\n",
    "initial_investment = 1\n",
    "time_years = np.arange(0, 100)\n",
    "all_that_money_in_my_bank_account = initial_investment*(1+interest_rate)**time_years\n",
    "plt.plot(time_years, all_that_money_in_my_bank_account);"
   ]
  },
  {
   "cell_type": "markdown",
   "metadata": {
    "slideshow": {
     "slide_type": "subslide"
    }
   },
   "source": [
    "### Alternatively: Functions! And (Named) Parameters!"
   ]
  },
  {
   "cell_type": "code",
   "execution_count": 6,
   "metadata": {},
   "outputs": [
    {
     "data": {
      "text/plain": [
       "1.1716593810022657"
      ]
     },
     "execution_count": 6,
     "metadata": {},
     "output_type": "execute_result"
    }
   ],
   "source": [
    "def calculate_bank_account_value(initial_investment, interest_rate, time_in_years):\n",
    "    return initial_investment*(1+interest_rate)**time_in_years\n",
    "\n",
    "calculate_bank_account_value(initial_investment=1, interest_rate=0.02, time_in_years=8)"
   ]
  },
  {
   "cell_type": "markdown",
   "metadata": {
    "slideshow": {
     "slide_type": "subslide"
    }
   },
   "source": [
    "### A Note On Comments"
   ]
  },
  {
   "cell_type": "markdown",
   "metadata": {},
   "source": [
    "* Problem: Comments are often forgotten when code is changed\n",
    "    * No comments are better than wrong comments\n",
    "* Sometimes they're just obsolete clutter\n",
    "* Only use if you can't explain it in code\n",
    "* Don't comment out code (more on that later)\n",
    "* Our case is a bit special since the models are complex, often refer to Papers etc\n",
    "    * Still try to make the code as understandable without comments as possible.\n",
    "* README files can be helpful to explain how a module of code works"
   ]
  },
  {
   "cell_type": "markdown",
   "metadata": {
    "slideshow": {
     "slide_type": "subslide"
    }
   },
   "source": [
    "#### Bad Example\n",
    "When deciding to account in PgC instead of PgCO2, the first comment will likely be forgotton to be adapted.\n",
    "\n",
    "Note also the **Magic number** 3.664. This is bad practice."
   ]
  },
  {
   "cell_type": "code",
   "execution_count": 2,
   "metadata": {},
   "outputs": [],
   "source": [
    "# computes emissions in Pg CO2\n",
    "def compute_emissions_from_harvests(gridcell):\n",
    "    \n",
    "    # total harvests\n",
    "    total_harvests = 0\n",
    "    \n",
    "    # go through the stands in the gridcell\n",
    "    for stand in gridcell.stands:\n",
    "        \n",
    "        total_harvests += stand.harvest\n",
    "        \n",
    "    # convert from C to CO2 (see e.g., LeQuere 2018)\n",
    "    return total_harvests * 3.664\n"
   ]
  },
  {
   "cell_type": "markdown",
   "metadata": {
    "slideshow": {
     "slide_type": "subslide"
    }
   },
   "source": [
    "#### Better\n",
    "When you change to return PgC now, you will likely see that the function's name needs to be adapted"
   ]
  },
  {
   "cell_type": "code",
   "execution_count": 1,
   "metadata": {},
   "outputs": [],
   "source": [
    "conversion_factor_c_co2 = 3.664 # mass CO2 vs C, see e.g., LeQuere 2018\n",
    "def compute_emissions_from_harvests_pg_co2(gridcell):\n",
    "    \n",
    "    total_harvests_c = 0\n",
    "    \n",
    "    for stand in gridcell.stands:\n",
    "        total_harvests_c += stand.harvest\n",
    "        \n",
    "    return total_harvests_c * conversion_factor_c_co2\n"
   ]
  },
  {
   "cell_type": "markdown",
   "metadata": {
    "slideshow": {
     "slide_type": "slide"
    }
   },
   "source": [
    "## Methods / Functions\n",
    "* They also should have proper names\n",
    "* They should be small!\n",
    "* They should do only one thing\n",
    "    * `Single Responsibility Principle`\n",
    "    * If they do more, they should be split in multiple functions\n",
    "* They are a good way to make the code readable and testable\n",
    "* Especially this is important if we do the same things in many places"
   ]
  },
  {
   "cell_type": "markdown",
   "metadata": {
    "slideshow": {
     "slide_type": "subslide"
    }
   },
   "source": [
    "### Good LPJ Example: simulate_day()\n",
    "Every function responsible for **one** thing\n",
    "(note: how much info do these comments give us?)\n",
    "```c\n",
    "void simulate_day(Gridcell& gridcell, Input& input_modules) {\n",
    "    ...\n",
    "    // Leaf phenology for PFTs and individuals\n",
    "    leaf_phenology(patch, gridcell.climate);\n",
    "    // Interception\n",
    "    interception(patch, gridcell.climate);\n",
    "    initial_infiltration(patch, gridcell.climate);\n",
    "    // Photosynthesis, respiration, evapotranspiration\n",
    "    canopy_exchange(patch, gridcell.climate);\n",
    "    // Sum total required irrigation\n",
    "    irrigation(patch);\n",
    "    // Soil water accounting, snow pack accounting\n",
    "    soilwater(patch, gridcell.climate);\n",
    "    ...\n",
    "}\n",
    "```"
   ]
  },
  {
   "cell_type": "markdown",
   "metadata": {
    "slideshow": {
     "slide_type": "slide"
    }
   },
   "source": [
    "## Code Style\n",
    "\n",
    "* Take care of proper indentation\n",
    "* Every language has more or less fixed conventions on naming\n",
    "* Python: `snake_case` and rarely `CamelCase`:\n",
    "    * def my_function_name()\n",
    "    * class MyClass\n",
    "* C++: `CamelCase` and `snake_case`\n",
    "* R: \n",
    "    * http://web.stanford.edu/class/cs109l/unrestricted/resources/google-style.html\n",
    "    * do not use dots in variable names\n",
    "* In a large project, there are often project-guidelines."
   ]
  },
  {
   "cell_type": "markdown",
   "metadata": {
    "slideshow": {
     "slide_type": "slide"
    }
   },
   "source": [
    "# DRY-Princile (Don't Repeat Yourself)"
   ]
  },
  {
   "cell_type": "markdown",
   "metadata": {},
   "source": [
    "* Avoid having to change all over the place when something small changes\n",
    "    * There will come the time when you change it and forget it on one place!\n",
    "* LPJ Example: diam of individual\n",
    "    * see where indiv.height is used\n",
    "    * better: create function `indiv.diam()`"
   ]
  },
  {
   "cell_type": "markdown",
   "metadata": {
    "slideshow": {
     "slide_type": "slide"
    }
   },
   "source": [
    "# Version Control"
   ]
  },
  {
   "cell_type": "markdown",
   "metadata": {
    "slideshow": {
     "slide_type": "subslide"
    }
   },
   "source": [
    "This will result in confusion:"
   ]
  },
  {
   "cell_type": "code",
   "execution_count": 9,
   "metadata": {},
   "outputs": [],
   "source": [
    "for person in person_list:\n",
    "    person.calculate_something()\n",
    "\n",
    "    # person.do_the_thing()\n",
    "    # person.money = 1000\n",
    "    \n",
    "    person.money = 500\n",
    "    person.do_other_thing()"
   ]
  },
  {
   "cell_type": "markdown",
   "metadata": {},
   "source": [
    "* Why do we not do **the thing** anymore?\n",
    "* Why not 1000, but 500 now?\n",
    "* Is this a bug?\n",
    "* Is this work in progress?"
   ]
  },
  {
   "cell_type": "markdown",
   "metadata": {},
   "source": [
    "Instead of commenting out: commit the code before you change it, delete the code, add the new code, commit again."
   ]
  },
  {
   "cell_type": "markdown",
   "metadata": {
    "jp-MarkdownHeadingCollapsed": true,
    "slideshow": {
     "slide_type": "slide"
    },
    "tags": []
   },
   "source": [
    "# Coding Pitfalls"
   ]
  },
  {
   "cell_type": "markdown",
   "metadata": {
    "pycharm": {
     "name": "#%% md\n"
    },
    "slideshow": {
     "slide_type": "subslide"
    },
    "tags": []
   },
   "source": [
    "# Datatypes\n",
    "\n",
    "* Programming languages all have **data types**\n",
    "* In some languages (Java, C++, ...) you have to tell the programm exactly what type of variable something is\n",
    "    * integer number\n",
    "    * decimal number\n",
    "    * true/false value\n",
    "    * string of characters\n",
    "    * ...\n",
    "* In other languages (Python, R, ...), you can usually do whatever!\n",
    "    * but internally all variables still have a type, be careful!\n",
    "    * in R tidy data types can be important for empty values (e.g., `NA_real_`)"
   ]
  },
  {
   "cell_type": "code",
   "execution_count": 3,
   "metadata": {
    "collapsed": false,
    "jupyter": {
     "outputs_hidden": false
    },
    "pycharm": {
     "name": "#%%\n"
    }
   },
   "outputs": [],
   "source": [
    "# would never work in C++, Java, ...\n",
    "a = 123\n",
    "a = True\n",
    "a = 12.3\n",
    "a = \"hello\""
   ]
  },
  {
   "cell_type": "markdown",
   "metadata": {
    "pycharm": {
     "name": "#%% md\n"
    },
    "slideshow": {
     "slide_type": "subslide"
    },
    "tags": []
   },
   "source": [
    "# Division"
   ]
  },
  {
   "cell_type": "markdown",
   "metadata": {},
   "source": [
    "### In C, C++, Java, ..."
   ]
  },
  {
   "cell_type": "markdown",
   "metadata": {},
   "source": [
    "```c\n",
    "int a = 4;\n",
    "int b = 9;\n",
    "int c = a/b;\n",
    "```"
   ]
  },
  {
   "cell_type": "markdown",
   "metadata": {
    "slideshow": {
     "slide_type": "subslide"
    }
   },
   "source": [
    "#### Result and Solution\n",
    "\n",
    "Result:\n",
    "```c\n",
    "0\n",
    "```\n",
    "\n",
    "Reason:\n",
    "* The variables are `int`s and can only hold integer values, not decimals\n",
    "\n",
    "Solution:\n",
    "\n",
    "```c\n",
    "double a = 4.0\n",
    "int b = 9\n",
    "double c = a/b\n",
    "```"
   ]
  },
  {
   "cell_type": "markdown",
   "metadata": {
    "slideshow": {
     "slide_type": "subslide"
    },
    "tags": []
   },
   "source": [
    "### In Mathematica, R, Python3 ...:"
   ]
  },
  {
   "cell_type": "markdown",
   "metadata": {},
   "source": [
    "No Problem!"
   ]
  },
  {
   "cell_type": "code",
   "execution_count": 1,
   "metadata": {},
   "outputs": [
    {
     "data": {
      "text/plain": [
       "0.4444444444444444"
      ]
     },
     "execution_count": 1,
     "metadata": {},
     "output_type": "execute_result"
    }
   ],
   "source": [
    "4/9"
   ]
  },
  {
   "cell_type": "markdown",
   "metadata": {},
   "source": [
    "Python2 has the same problem!\n",
    "```bash\n",
    "konni@konni-xps15:~$ ipython2\n",
    "In [1]: 2/3\n",
    "Out[1]: 0\n",
    "\n",
    "```"
   ]
  },
  {
   "cell_type": "markdown",
   "metadata": {
    "slideshow": {
     "slide_type": "subslide"
    }
   },
   "source": [
    "## Integer / Long Overflow"
   ]
  },
  {
   "cell_type": "markdown",
   "metadata": {},
   "source": [
    "```c\n",
    "int a = 2147483647;\n",
    "int b = a+1;\n",
    "```\n",
    "\n",
    "$\\rightarrow$ What is the value of $b$?"
   ]
  },
  {
   "cell_type": "markdown",
   "metadata": {
    "slideshow": {
     "slide_type": "subslide"
    }
   },
   "source": [
    "### Explanation\n",
    "Result:\n",
    "```c\n",
    "-2147483648\n",
    "```\n",
    "\n",
    "* int has 4 bytes = 32 bit\n",
    "    * 0 = |0|0|0|0|0|0|0|0|0|0|0|0|0|0|0|0|0|0|0|0|0|0|0|0|0|0|0|0|0|0|0|0|\n",
    "    * 11 = |0|0|0|0|0|0|0|0|0|0|0|0|0|0|0|0|0|0|0|0|0|0|0|0|0|0|0|0|1|0|1|1| = $2^3+2^1+2^0$\n",
    "    * for negative numbers it is more complex... (https://en.wikipedia.org/wiki/Two%27s_complement)\n",
    "* first bit is for the sign (+ or -)\n",
    "* thus int-range is: $[-2^{31}, 2^{31} -1]$\n",
    "* upper bound $2^{31} -1 = 2147483647$\n",
    "* adding 1 to the upper bound leads to an **overflow** and results in $-2^{31}$\n",
    "\n",
    "**Note**: in C++ the upper bound depends on compiler and machine, but the problem will only be shifted to higher numbers"
   ]
  },
  {
   "cell_type": "markdown",
   "metadata": {
    "slideshow": {
     "slide_type": "subslide"
    }
   },
   "source": [
    "### Possible Effects\n",
    "https://youtu.be/gp_D8r-2hwk?t=13"
   ]
  },
  {
   "cell_type": "markdown",
   "metadata": {
    "slideshow": {
     "slide_type": "subslide"
    }
   },
   "source": [
    "### Solutions"
   ]
  },
  {
   "cell_type": "markdown",
   "metadata": {
    "slideshow": {
     "slide_type": "subslide"
    }
   },
   "source": [
    "Solution 1:\n",
    "```c\n",
    "long a = 2147483647;\n",
    "long b = a+1;\n",
    "std::cout << b << std::endl;\n",
    "```\n",
    "\n",
    "* Problem: Different compilers also have different sizes for **long**\n",
    "\n",
    "Solution 2:\n",
    "```c\n",
    "int64_t a = 2147483647;\n",
    "int64_t b = a+1;\n",
    "std::cout << b << std::endl;\n",
    "```\n",
    "\n",
    "* Problem: Same thing will still occur, but for $2^{63} -1 $"
   ]
  },
  {
   "cell_type": "markdown",
   "metadata": {
    "slideshow": {
     "slide_type": "subslide"
    }
   },
   "source": [
    "### Python, R, Mathematica, ..."
   ]
  },
  {
   "cell_type": "markdown",
   "metadata": {},
   "source": [
    "No Problem!"
   ]
  },
  {
   "cell_type": "code",
   "execution_count": 5,
   "metadata": {},
   "outputs": [
    {
     "data": {
      "text/plain": [
       "2147483648"
      ]
     },
     "execution_count": 5,
     "metadata": {},
     "output_type": "execute_result"
    }
   ],
   "source": [
    "a = 2147483647\n",
    "a + 1"
   ]
  },
  {
   "cell_type": "code",
   "execution_count": 19,
   "metadata": {},
   "outputs": [
    {
     "data": {
      "text/plain": [
       "10633823966279326983230456484390240255"
      ]
     },
     "execution_count": 19,
     "metadata": {},
     "output_type": "execute_result"
    }
   ],
   "source": [
    "a + 2**123"
   ]
  },
  {
   "cell_type": "markdown",
   "metadata": {
    "slideshow": {
     "slide_type": "slide"
    }
   },
   "source": [
    "## Floating Point Precision\n",
    "Problematic in every (?) programming language:"
   ]
  },
  {
   "cell_type": "code",
   "execution_count": 9,
   "metadata": {},
   "outputs": [
    {
     "data": {
      "text/plain": [
       "0.30000000000000004"
      ]
     },
     "execution_count": 9,
     "metadata": {},
     "output_type": "execute_result"
    }
   ],
   "source": [
    "0.1 + 0.2"
   ]
  },
  {
   "cell_type": "code",
   "execution_count": 11,
   "metadata": {},
   "outputs": [
    {
     "data": {
      "text/plain": [
       "0.0"
      ]
     },
     "execution_count": 11,
     "metadata": {},
     "output_type": "execute_result"
    }
   ],
   "source": [
    "0.6 - 0.6"
   ]
  },
  {
   "cell_type": "code",
   "execution_count": 12,
   "metadata": {},
   "outputs": [
    {
     "data": {
      "text/plain": [
       "-5.551115123125783e-17"
      ]
     },
     "execution_count": 12,
     "metadata": {},
     "output_type": "execute_result"
    }
   ],
   "source": [
    "0.6 - 0.4 - 0.2"
   ]
  },
  {
   "cell_type": "markdown",
   "metadata": {
    "slideshow": {
     "slide_type": "subslide"
    }
   },
   "source": [
    "So never do this:"
   ]
  },
  {
   "cell_type": "code",
   "execution_count": null,
   "metadata": {
    "pycharm": {
     "name": "#%%\n"
    }
   },
   "outputs": [],
   "source": [
    "if npp == 0:\n",
    "    die()\n",
    "else:\n",
    "    do_something()"
   ]
  },
  {
   "cell_type": "markdown",
   "metadata": {},
   "source": [
    "Instead do something like this:"
   ]
  },
  {
   "cell_type": "code",
   "execution_count": null,
   "metadata": {},
   "outputs": [],
   "source": [
    "TOLERANCE = 0.0000001\n",
    "if abs(npp) < TOLERANCE:\n",
    "    die()\n",
    "else:\n",
    "    do_something()"
   ]
  },
  {
   "cell_type": "markdown",
   "metadata": {},
   "source": [
    "https://medium.com/better-programming/why-is-0-1-0-2-not-equal-to-0-3-in-most-programming-languages-99432310d476"
   ]
  },
  {
   "cell_type": "markdown",
   "metadata": {
    "slideshow": {
     "slide_type": "subslide"
    }
   },
   "source": [
    "## Pointers, Values, and References\n",
    "\n",
    "```c\n",
    "int c = 5;\n",
    "int d = c;\n",
    "int& e = c;\n",
    "e++;\n",
    "```\n",
    "\n",
    "What happens here?\n",
    "\n",
    "* c **and** e will become 6 because both point to **the same address in computer memory** (that's what the `&` does)\n",
    "* So changing e changes the values in the computer memory and this affects both `c` and `e` since they both point there\n",
    "* d will **not** be affected: `int d = c` creates a **copy**, so `d` has nothing to do with `c` after the **value** was copied"
   ]
  },
  {
   "cell_type": "markdown",
   "metadata": {
    "slideshow": {
     "slide_type": "subslide"
    }
   },
   "source": [
    "### This is extremely important in LPJ-GUESS!"
   ]
  },
  {
   "cell_type": "markdown",
   "metadata": {},
   "source": [
    "Compare those two functions, what will happen?\n",
    "\n",
    "```c\n",
    "void chop_down(Individual individual) {\n",
    "    individual.height = 0.0;\n",
    "}\n",
    "\n",
    "void chop_down2(Individual& individual) {\n",
    "    individual.height = 0.0;\n",
    "}\n",
    "```\n",
    "\n",
    "* calling `chop_down(indiv)` will **not** change `indiv`\n",
    "* it will internally create a copy and only change the height of the copy\n",
    "* calling `chop_down2(indiv)` will actually change the `indiv` variable, because due to the `&` it actually works with the object stored in the "
   ]
  },
  {
   "cell_type": "markdown",
   "metadata": {
    "slideshow": {
     "slide_type": "subslide"
    }
   },
   "source": [
    "![](graphics/boi.jpeg)"
   ]
  },
  {
   "cell_type": "markdown",
   "metadata": {
    "pycharm": {
     "name": "#%% md\n"
    },
    "slideshow": {
     "slide_type": "subslide"
    },
    "tags": []
   },
   "source": [
    "## This is also important in Python!\n",
    "\n",
    "For instance in numpy-arrays and pandas dataframes"
   ]
  },
  {
   "cell_type": "code",
   "execution_count": 8,
   "metadata": {
    "collapsed": false,
    "jupyter": {
     "outputs_hidden": false
    },
    "pycharm": {
     "name": "#%%\n"
    }
   },
   "outputs": [
    {
     "data": {
      "text/html": [
       "<div>\n",
       "<style scoped>\n",
       "    .dataframe tbody tr th:only-of-type {\n",
       "        vertical-align: middle;\n",
       "    }\n",
       "\n",
       "    .dataframe tbody tr th {\n",
       "        vertical-align: top;\n",
       "    }\n",
       "\n",
       "    .dataframe thead th {\n",
       "        text-align: right;\n",
       "    }\n",
       "</style>\n",
       "<table border=\"1\" class=\"dataframe\">\n",
       "  <thead>\n",
       "    <tr style=\"text-align: right;\">\n",
       "      <th></th>\n",
       "      <th>A</th>\n",
       "      <th>B</th>\n",
       "    </tr>\n",
       "  </thead>\n",
       "  <tbody>\n",
       "    <tr>\n",
       "      <th>row1</th>\n",
       "      <td>1</td>\n",
       "      <td>2</td>\n",
       "    </tr>\n",
       "    <tr>\n",
       "      <th>row2</th>\n",
       "      <td>3</td>\n",
       "      <td>4</td>\n",
       "    </tr>\n",
       "  </tbody>\n",
       "</table>\n",
       "</div>"
      ],
      "text/plain": [
       "      A  B\n",
       "row1  1  2\n",
       "row2  3  4"
      ]
     },
     "execution_count": 8,
     "metadata": {},
     "output_type": "execute_result"
    }
   ],
   "source": [
    "import pandas as pd\n",
    "df = pd.DataFrame(columns=['A', 'B'], index=['row1', 'row2'], data=[[1, 2], [3, 4]])\n",
    "df2 = df.copy() # same same, but different\n",
    "df3 = df # EXACT same\n",
    "df"
   ]
  },
  {
   "cell_type": "code",
   "execution_count": 9,
   "metadata": {
    "collapsed": false,
    "jupyter": {
     "outputs_hidden": false
    },
    "pycharm": {
     "name": "#%%\n"
    }
   },
   "outputs": [
    {
     "data": {
      "text/html": [
       "<div>\n",
       "<style scoped>\n",
       "    .dataframe tbody tr th:only-of-type {\n",
       "        vertical-align: middle;\n",
       "    }\n",
       "\n",
       "    .dataframe tbody tr th {\n",
       "        vertical-align: top;\n",
       "    }\n",
       "\n",
       "    .dataframe thead th {\n",
       "        text-align: right;\n",
       "    }\n",
       "</style>\n",
       "<table border=\"1\" class=\"dataframe\">\n",
       "  <thead>\n",
       "    <tr style=\"text-align: right;\">\n",
       "      <th></th>\n",
       "      <th>A</th>\n",
       "      <th>B</th>\n",
       "    </tr>\n",
       "  </thead>\n",
       "  <tbody>\n",
       "    <tr>\n",
       "      <th>row1</th>\n",
       "      <td>1</td>\n",
       "      <td>2</td>\n",
       "    </tr>\n",
       "    <tr>\n",
       "      <th>row2</th>\n",
       "      <td>3</td>\n",
       "      <td>4</td>\n",
       "    </tr>\n",
       "  </tbody>\n",
       "</table>\n",
       "</div>"
      ],
      "text/plain": [
       "      A  B\n",
       "row1  1  2\n",
       "row2  3  4"
      ]
     },
     "execution_count": 9,
     "metadata": {},
     "output_type": "execute_result"
    }
   ],
   "source": [
    "df2.loc['row1', 'A'] = 9999\n",
    "df"
   ]
  },
  {
   "cell_type": "code",
   "execution_count": 10,
   "metadata": {
    "collapsed": false,
    "jupyter": {
     "outputs_hidden": false
    },
    "pycharm": {
     "name": "#%%\n"
    }
   },
   "outputs": [
    {
     "data": {
      "text/html": [
       "<div>\n",
       "<style scoped>\n",
       "    .dataframe tbody tr th:only-of-type {\n",
       "        vertical-align: middle;\n",
       "    }\n",
       "\n",
       "    .dataframe tbody tr th {\n",
       "        vertical-align: top;\n",
       "    }\n",
       "\n",
       "    .dataframe thead th {\n",
       "        text-align: right;\n",
       "    }\n",
       "</style>\n",
       "<table border=\"1\" class=\"dataframe\">\n",
       "  <thead>\n",
       "    <tr style=\"text-align: right;\">\n",
       "      <th></th>\n",
       "      <th>A</th>\n",
       "      <th>B</th>\n",
       "    </tr>\n",
       "  </thead>\n",
       "  <tbody>\n",
       "    <tr>\n",
       "      <th>row1</th>\n",
       "      <td>9999</td>\n",
       "      <td>2</td>\n",
       "    </tr>\n",
       "    <tr>\n",
       "      <th>row2</th>\n",
       "      <td>3</td>\n",
       "      <td>4</td>\n",
       "    </tr>\n",
       "  </tbody>\n",
       "</table>\n",
       "</div>"
      ],
      "text/plain": [
       "         A  B\n",
       "row1  9999  2\n",
       "row2     3  4"
      ]
     },
     "execution_count": 10,
     "metadata": {},
     "output_type": "execute_result"
    }
   ],
   "source": [
    "df3.loc['row1', 'A'] = 9999\n",
    "df"
   ]
  },
  {
   "cell_type": "markdown",
   "metadata": {
    "slideshow": {
     "slide_type": "subslide"
    },
    "tags": []
   },
   "source": [
    "## This is (usually) not a problem in R!\n",
    "\n",
    "* In R, objects are immutable and a copy is created\n",
    "* It can, however, be achieved by using `environments` using `setRefClass`\n",
    "* For some packages, it might also be relevant (for instance, `Rcpp`)"
   ]
  },
  {
   "cell_type": "markdown",
   "metadata": {
    "slideshow": {
     "slide_type": "slide"
    }
   },
   "source": [
    "# Unit-Testing"
   ]
  },
  {
   "cell_type": "markdown",
   "metadata": {},
   "source": [
    "* Making sure the code does what it's supposed to do\n",
    "* Understand / Document what the code does\n",
    "* Make sure you don't break existing code"
   ]
  },
  {
   "cell_type": "markdown",
   "metadata": {
    "slideshow": {
     "slide_type": "subslide"
    }
   },
   "source": [
    "## Python Examples with `unittest` and `doctest` packages"
   ]
  },
  {
   "cell_type": "markdown",
   "metadata": {},
   "source": [
    "--> Demo at `$phd/notes/presi/clean_code`"
   ]
  },
  {
   "cell_type": "markdown",
   "metadata": {
    "slideshow": {
     "slide_type": "subslide"
    }
   },
   "source": [
    "## Tips\n",
    "* Make sure you have seen a test fail! Otherwise you might have written a test that is always green.\n",
    "* In professional software development, everything is tested. For you work, decide what should be tested\n",
    "    * To consider: we write a lot of code to explore data, but often throw the code away. Maybe wait until you know you will keep using the code before you test"
   ]
  },
  {
   "cell_type": "markdown",
   "metadata": {
    "slideshow": {
     "slide_type": "subslide"
    }
   },
   "source": [
    "## Test Frameworks\n",
    "* Python: unittest and doctest\n",
    "* R: test_that, exampletestr\n",
    "* C++: Catch2, Google_tests"
   ]
  },
  {
   "cell_type": "markdown",
   "metadata": {
    "jp-MarkdownHeadingCollapsed": true,
    "pycharm": {
     "name": "#%% md\n"
    },
    "slideshow": {
     "slide_type": "slide"
    },
    "tags": []
   },
   "source": [
    "# Assertions\n",
    "\n",
    "* Assertions: Like small unit tests in your code\n",
    "    * Advantage: check everything is ok right where you write the actual code\n",
    "    * Example:\n",
    "  ```\n",
    "  double prob = 1/stand.get_distinterval();\n",
    "  assert(prob >= 0 && prob <= 1);\n",
    "  ```\n",
    "* Note that in compiled code, assertions might be optimized away!\n",
    "* In languages that do not support assertions, you can help yourself with `if` statements."
   ]
  },
  {
   "cell_type": "code",
   "execution_count": null,
   "metadata": {
    "collapsed": false,
    "jupyter": {
     "outputs_hidden": false
    },
    "pycharm": {
     "name": "#%%\n"
    }
   },
   "outputs": [],
   "source": [
    "def compute_total_c_pool_in_giga_tons_new(lat_lon_total_values_per_m2, field_of_interest, lat_frac = 0.5, lon_frac = 0.5):\n",
    "    assert lat_lon_total_values_per_m2.index.is_unique, \"Index is not unique! Maybe grid cells are duplicated?\"\n",
    "\n",
    "    if 'Year' in lat_lon_total_values_per_m2.columns:\n",
    "        assert is_unique(lat_lon_total_values_per_m2['Year']), \"Values of multiple years in aggregation!\"\n",
    "\n",
    "    assert 'Lon' in lat_lon_total_values_per_m2.index.names and 'Lat' in lat_lon_total_values_per_m2.index.names\n",
    "\n",
    "    lat_lon_total_values_per_m2['area'] = lat_lon_total_values_per_m2.index.map(lambda x: get_area_for_lon_and_lat(x[0], x[1], formula=True, lat_frac=lat_frac, lon_frac=lon_frac))\n",
    "    computed = lat_lon_total_values_per_m2.apply(lambda x: x['area'] * x[field_of_interest], axis=1).sum()\n",
    "\n",
    "    kg_to_Gt = 1000 ** 4\n",
    "    return np.sum(computed) / kg_to_Gt"
   ]
  },
  {
   "cell_type": "markdown",
   "metadata": {
    "jp-MarkdownHeadingCollapsed": true,
    "slideshow": {
     "slide_type": "slide"
    },
    "tags": []
   },
   "source": [
    "# TL;DL*\n",
    "1. Proper naming of variables is important\n",
    "1. Try to make the code self-explanatory, use comments sparsely when needed\n",
    "1. Create short functions with good names to make code more understandable\n",
    "1. Test your functions to make sure they are correct and to have solid documentation for how the function works\n",
    "1. Don't repeat yourself\n",
    "1. Be aware of limitations of a programming language (think: overflow, rounding)\n",
    "1. Be aware of \"exact same\" vs \"same same but different\"\n",
    "    * `&` in C++!\n",
    "    * `df2 = df` or `df3 = df.copy()` in Python\n",
    "1. Do not comment out code\n",
    "1. Use Version Control\n",
    "\n",
    "*too long; didn't listen"
   ]
  },
  {
   "cell_type": "markdown",
   "metadata": {
    "pycharm": {
     "name": "#%% md\n"
    },
    "slideshow": {
     "slide_type": "slide"
    },
    "tags": []
   },
   "source": [
    "# End of the first Part =D\n",
    "\n",
    "<img src='graphics/bird.png' width=400/>"
   ]
  },
  {
   "cell_type": "markdown",
   "metadata": {
    "pycharm": {
     "name": "#%% md\n"
    },
    "slideshow": {
     "slide_type": "slide"
    },
    "tags": []
   },
   "source": [
    "# IDEs and Git"
   ]
  },
  {
   "cell_type": "markdown",
   "metadata": {
    "jp-MarkdownHeadingCollapsed": true,
    "pycharm": {
     "name": "#%% md\n"
    },
    "slideshow": {
     "slide_type": "slide"
    },
    "tags": []
   },
   "source": [
    "# IDEs\n",
    "\n",
    "* Integrated Development Environment\n",
    "* Software for Coding\n",
    "* with many tools\n",
    "* Normally for one specific programming language\n",
    "* Examples: RStudio, Eclipse, IntelliJ, PyCharm, CLion, DataSpell...\n",
    "\n",
    "Most important features:\n",
    "* Code completion\n",
    "* Unit testing\n",
    "* Tools for compilation etc.\n",
    "* Version control integration\n",
    "* Debugging with breakpoints!"
   ]
  },
  {
   "cell_type": "markdown",
   "metadata": {
    "pycharm": {
     "name": "#%% md\n"
    },
    "slideshow": {
     "slide_type": "slide"
    },
    "tags": []
   },
   "source": [
    "# IDE Demo\n",
    "\n",
    "* using PyCharm with the unit testing example\n",
    "    * debugging with breakpoints!\n",
    "* using DataSpell with Notebooks\n",
    "    * Note: automatically comes with nice notebook-git-integration!\n",
    "* using CLion with LPJ-GUESS management"
   ]
  },
  {
   "cell_type": "markdown",
   "metadata": {
    "pycharm": {
     "name": "#%% md\n"
    },
    "slideshow": {
     "slide_type": "slide"
    },
    "tags": []
   },
   "source": [
    "# Version Control with **git**"
   ]
  },
  {
   "cell_type": "markdown",
   "metadata": {
    "pycharm": {
     "name": "#%% md\n"
    },
    "slideshow": {
     "slide_type": "slide"
    },
    "tags": []
   },
   "source": [
    "# What can you do with git?\n",
    "\n",
    "![](graphics/merge.png)\n",
    "\n",
    "* commit stages of work\n",
    "* go back in time\n",
    "* backup the work\n",
    "* collaborate"
   ]
  },
  {
   "cell_type": "markdown",
   "metadata": {
    "pycharm": {
     "name": "#%% md\n"
    },
    "slideshow": {
     "slide_type": "slide"
    },
    "tags": []
   },
   "source": [
    "# Local Representation\n",
    "![](graphics/gitdiagram.png)"
   ]
  },
  {
   "cell_type": "markdown",
   "metadata": {
    "pycharm": {
     "name": "#%% md\n"
    },
    "slideshow": {
     "slide_type": "slide"
    },
    "tags": []
   },
   "source": [
    "# git Demo\n",
    "\n",
    "PyCharm --> `$phd/small_python_project`\n",
    "\n",
    "* init repo\n",
    "* write code\n",
    "* make a commit\n",
    "* make another commit\n",
    "* make a new branch\n",
    "* merge the branch\n",
    "* .gitignore\n",
    "* push to GitHub\n",
    "* merge conflict"
   ]
  },
  {
   "cell_type": "markdown",
   "metadata": {
    "pycharm": {
     "name": "#%% md\n"
    },
    "slideshow": {
     "slide_type": "slide"
    },
    "tags": []
   },
   "source": [
    "# Try it out\n",
    "\n",
    "https://github.com/kuahyeow/git-workshop/tree/master\n",
    "\n",
    "--> only the first part"
   ]
  },
  {
   "cell_type": "markdown",
   "metadata": {
    "pycharm": {
     "name": "#%% md\n"
    },
    "slideshow": {
     "slide_type": "slide"
    },
    "tags": []
   },
   "source": [
    "# Backing the repository up online\n",
    "\n",
    "* Go to Github, create new repositury and push the changes\n",
    "* make another simple commit\n",
    "* compare local and remote: the commit is not online!\n",
    "    * this is a **crucial** difference to other version control systems like `svn`\n",
    "* push the commit\n",
    "* verify that it is online in Github"
   ]
  },
  {
   "cell_type": "code",
   "execution_count": null,
   "metadata": {
    "collapsed": false,
    "jupyter": {
     "outputs_hidden": false
    },
    "pycharm": {
     "name": "#%%\n"
    }
   },
   "outputs": [],
   "source": []
  }
 ],
 "metadata": {
  "kernelspec": {
   "display_name": "myenv_kernel",
   "language": "python",
   "name": "myenv_kernel"
  },
  "language_info": {
   "codemirror_mode": {
    "name": "ipython",
    "version": 3
   },
   "file_extension": ".py",
   "mimetype": "text/x-python",
   "name": "python",
   "nbconvert_exporter": "python",
   "pygments_lexer": "ipython3",
   "version": "3.8.12"
  },
  "toc-autonumbering": true,
  "toc-showtags": false
 },
 "nbformat": 4,
 "nbformat_minor": 4
}
